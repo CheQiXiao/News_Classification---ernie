{
 "cells": [
  {
   "cell_type": "code",
   "execution_count": 107,
   "metadata": {
    "collapsed": false
   },
   "outputs": [
    {
     "name": "stdout",
     "output_type": "stream",
     "text": [
      "paddle版本:2.0.1\n",
      "paddlehub版本:2.0.4\n",
      "/opt/conda/envs/python35-paddle120-env/lib/python3.7/site-packages/setuptools/depends.py:2: DeprecationWarning: the imp module is deprecated in favour of importlib; see the module's documentation for alternative uses\n",
      "  import imp\n",
      "/opt/conda/envs/python35-paddle120-env/lib/python3.7/site-packages/matplotlib/__init__.py:107: DeprecationWarning: Using or importing the ABCs from 'collections' instead of from 'collections.abc' is deprecated, and in 3.8 it will stop working\n",
      "  from collections import MutableMapping\n",
      "/opt/conda/envs/python35-paddle120-env/lib/python3.7/site-packages/matplotlib/rcsetup.py:20: DeprecationWarning: Using or importing the ABCs from 'collections' instead of from 'collections.abc' is deprecated, and in 3.8 it will stop working\n",
      "  from collections import Iterable, Mapping\n",
      "/opt/conda/envs/python35-paddle120-env/lib/python3.7/site-packages/matplotlib/colors.py:53: DeprecationWarning: Using or importing the ABCs from 'collections' instead of from 'collections.abc' is deprecated, and in 3.8 it will stop working\n",
      "  from collections import Sized\n",
      "+---------------+----------------------------------------+\n",
      "|  ModuleName   |ernie                                   |\n",
      "+---------------+----------------------------------------+\n",
      "|    Version    |2.0.2                                   |\n",
      "+---------------+----------------------------------------+\n",
      "|    Summary    |Baidu's ERNIE, Enhanced Representation t|\n",
      "|               |hrough kNowledge IntEgration, max_seq_le|\n",
      "|               |n=512 when predtrained. The module is ex|\n",
      "|               |ecuted as paddle.dygraph.               |\n",
      "+---------------+----------------------------------------+\n",
      "|    Author     |paddlepaddle                            |\n",
      "+---------------+----------------------------------------+\n",
      "| Author-Email  |                                        |\n",
      "+---------------+----------------------------------------+\n",
      "|   Location    |/home/aistudio/.paddlehub/modules/ernie |\n",
      "+---------------+----------------------------------------+\n",
      "\n"
     ]
    }
   ],
   "source": [
    "import paddlehub as hub\n",
    "import paddle\n",
    "import os,io,csv\n",
    "from paddlehub.datasets.base_nlp_dataset import InputExample,TextClassificationDataset\n",
    "#查看paddle版本\n",
    "print(\"paddle版本:\"+paddle.__version__)\n",
    "#查看paddlehub版本\n",
    "print(\"paddlehub版本:\"+hub.__version__)\n",
    "!hub show ernie\n",
    "\n",
    "\n"
   ]
  },
  {
   "cell_type": "code",
   "execution_count": 108,
   "metadata": {
    "collapsed": false
   },
   "outputs": [
    {
     "name": "stdout",
     "output_type": "stream",
     "text": [
      "/home/aistudio/data/data80226\n",
      "---------验证集前三条数据----------\n",
      "text_a\tlabel\n",
      "直击特里勾手助小牛反超神鸟发威火箭仍处劣势　　新浪体育讯　北京时间4月16日消息，火箭今天迎来常规赛的收官战。客场挑战达拉斯小牛的比赛将关系到火箭队最终的排名，目前西部的竞争仍然非常激励。尤其是西部第二到第七的六支球队将在今天展开捉对厮杀的情况下，黄蜂、小牛、开拓者以及马刺都有可能是火箭队的下一个对手。以下为本场比赛的精彩瞬间——　　第四节比赛还剩下8分多钟，姚明重新回到场上，但是小牛队的霍里随后在右翼接队友传球后上演一记三分跳投，虽然身体动作已经变形，但是他仍然将球命中，随后基德在弧顶处的一记三分跳投帮助小牛终于将比分反超，火箭在进攻中直接打不开局面，而小牛更是利用特里空切后的一记勾手将比分反超至4分，包括库班在内的所有小牛现场球迷都站起来振臂高呼，而此时阿德尔曼还在场边低头深沉的思索中。　　比赛还剩下最后5分多钟，洛瑞带球突破中被小牛队员犯规，洛瑞来不及刹车让自己直接撞到了观众席上，右腿疼痛难忍的他脸都几乎变形，结果他两罚两中，火箭队还落后两分。随后，洛瑞将球直接传给此时已经回到场上的阿泰，野兽此时将球稳下，并没有急于进攻，随后他顺势将球塞给兰德里，神鸟利用对方站位空隙直接杀到篮下，上篮成功，火箭将比分终于追至80平。场上局面对于火箭来说绝对是不容有失。　　(sabrina)\t体育\n",
      "北京网购年消费额112亿元　　商报讯(记者吴文治)昨日，淘宝网发布的《2009-2010年度中国网购热门城市报告》显示，北京年度网购消费力达112.5亿元，与上海相差近62亿元，位列十大热门消费力城市第二位。此外，男性网购的消费金额高出女性，与“女性是网购主力军”的传统观念不符。　　淘宝公布的报告显示，中国网购消费力十大城市分别是上海、北京、深圳、杭州、广州、南京、苏州、天津、温州和宁波。主要集中在以江浙沪为主的长三角地区、以广深为主的珠三角地区和以北京为主的京津地区。北京年度网购112.5亿元的消费额，占国内城市网购消费额的5.6%。　　中国网购消费力十大城市的消费金额性别来源比例中，男性占比超过了女性。前者占比达到53.5%，后者则为46.5%。不过，在成交人数、成交笔数等关键数据上显示，女性消费者均高于男性。此外，在十大网购热门城市中，25岁-34岁的群体成为网购消费的主力军，占比达到62.49%。\t科技\n",
      "世界首辆飞行汽车成功试飞(附图)　　新快报讯据美国《时代杂志》等媒体19日报道，世界首辆飞行汽车本月初在美国实现了首飞，降落后只需按一个按钮就可将机翼折叠，驶上高速公路。　　据报道，美国特拉弗吉亚公司研发的这辆名为“特拉弗吉亚过渡”的飞行汽车的空中巡航时速可达185公里，它还可以在道路上行驶，可以安全地存放在车库里。公司称，汽车可以用一箱汽油在空中飞行643公里。与此同时，飞行汽车加油时只需驶入最近的加油站，向油箱里加入无铅汽油即可。人们先前也曾验证过其它飞行汽车，但特拉弗吉亚公司研发的飞行汽车是第一辆拥有可折叠机翼的、并能无缝隙地实现从空中降落到公路的汽车。不过，这辆车的门槛还有点高，车的价格达13.9万英镑（约合135万元人民币）。\t社会\n",
      "---------验证集后三条数据----------\n",
      "事业测试：你工作易受他人干扰吗(图)　　独家撰稿：苑椿　心理测试征稿启事 欢迎关注新浪星座微博　　办公室永远是个龙蛇混杂、藏龙卧虎的地方，你永远不知道一张张面具底下会是怎样的脸庞，你是否还傻傻的对别人的话听之任之，完全搞乱了自己工作的步调？还是笃定的坚守阵地，从未被谣言动摇分毫？赶紧来测测看吧！　　(本测试仅供娱乐，非专业心理指导。)\t星座\n",
      "趣味测试：你怎么红红火火过春节(图)　　独家撰稿：岚　心理测试征稿启事 欢迎关注新浪星座微博　　红红火火过大年啦，每年的此时你都会如何度过呢？是跟家人爱人在一起还是跟朋友兄弟外出欢聚呢？亦或背起行囊远离嘈杂，无论如何，总会有一种适合你的方式，赶紧来测测看吧！　　(本测试仅供娱乐，非专业心理指导。)\t星座\n",
      "人际测试：你的人际磁场强大吗(图)　　独家撰稿：大智若笨　心理测试征稿启事　　如何在草木皆兵的office里脱颖而出，最好的办法不是到处抱怨也不是埋头工作，而是要加强自己的磁场，让周围的人都被你所感染，如此有影响力，你难道还怕自己不能夺人眼球吗。　　独家撰稿：大智若笨　心理测试征稿启事　　如何在草木皆兵的office里脱颖而出，最好的办法不是到处抱怨也不是埋头工作，而是要加强自己的磁场，让周围的人都被你所感染，如此有影响力，你难道还怕自己不能夺人眼球吗。\t星座\n"
     ]
    }
   ],
   "source": [
    "#解压数据集输出，输出验证集前三条、后三条数据（方法1）\n",
    "%cd /home/aistudio/data/data80226/\n",
    "\n",
    "print(\"---------验证集前三条数据----------\")\n",
    "!head -n 4 thu_news/valid.txt\n",
    "print(\"---------验证集后三条数据----------\")\n",
    "!tail -n 3 thu_news/valid.txt"
   ]
  },
  {
   "cell_type": "code",
   "execution_count": 109,
   "metadata": {
    "collapsed": false
   },
   "outputs": [
    {
     "name": "stderr",
     "output_type": "stream",
     "text": [
      "[2021-04-13 17:36:19,255] [    INFO] - Already cached /home/aistudio/.paddlenlp/models/ernie-1.0/ernie_v1_chn_base.pdparams\n",
      "[2021-04-13 17:36:21,081] [    INFO] - Found /home/aistudio/.paddlenlp/models/ernie-1.0/vocab.txt\n",
      "[2021-04-13 17:37:43,072] [    INFO] - Found /home/aistudio/.paddlenlp/models/ernie-1.0/vocab.txt\n",
      "[2021-04-13 17:37:56,358] [    INFO] - Found /home/aistudio/.paddlenlp/models/ernie-1.0/vocab.txt\n"
     ]
    },
    {
     "name": "stdout",
     "output_type": "stream",
     "text": [
      "---------验证集前三条数据----------\n",
      "text=直击特里勾手助小牛反超神鸟发威火箭仍处劣势　　新浪体育讯　北京时间4月16日消息，火箭今天迎来常规赛的收官战。客场挑战达拉斯小牛的比赛将关系到火箭队最终的排名，目前西部的竞争仍然非常激励。尤其是西部第二到第七的六支球队将在今天展开捉对厮杀的情况下，黄蜂、小牛、开拓者以及马刺都有可能是火箭队的下一个对手。以下为本场比赛的精彩瞬间——　　第四节比赛还剩下8分多钟，姚明重新回到场上，但是小牛队的霍里随后在右翼接队友传球后上演一记三分跳投，虽然身体动作已经变形，但是他仍然将球命中，随后基德在弧顶处的一记三分跳投帮助小牛终于将比分反超，火箭在进攻中直接打不开局面，而小牛更是利用特里空切后的一记勾手将比分反超至4分，包括库班在内的所有小牛现场球迷都站起来振臂高呼，而此时阿德尔曼还在场边低头深沉的思索中。　　比赛还剩下最后5分多钟，洛瑞带球突破中被小牛队员犯规，洛瑞来不及刹车让自己直接撞到了观众席上，右腿疼痛难忍的他脸都几乎变形，结果他两罚两中，火箭队还落后两分。随后，洛瑞将球直接传给此时已经回到场上的阿泰，野兽此时将球稳下，并没有急于进攻，随后他顺势将球塞给兰德里，神鸟利用对方站位空隙直接杀到篮下，上篮成功，火箭将比分终于追至80平。场上局面对于火箭来说绝对是不容有失。　　(sabrina)\tlabel=体育\n",
      "---------验证集前三条数据----------\n",
      "text=北京网购年消费额112亿元　　商报讯(记者吴文治)昨日，淘宝网发布的《2009-2010年度中国网购热门城市报告》显示，北京年度网购消费力达112.5亿元，与上海相差近62亿元，位列十大热门消费力城市第二位。此外，男性网购的消费金额高出女性，与“女性是网购主力军”的传统观念不符。　　淘宝公布的报告显示，中国网购消费力十大城市分别是上海、北京、深圳、杭州、广州、南京、苏州、天津、温州和宁波。主要集中在以江浙沪为主的长三角地区、以广深为主的珠三角地区和以北京为主的京津地区。北京年度网购112.5亿元的消费额，占国内城市网购消费额的5.6%。　　中国网购消费力十大城市的消费金额性别来源比例中，男性占比超过了女性。前者占比达到53.5%，后者则为46.5%。不过，在成交人数、成交笔数等关键数据上显示，女性消费者均高于男性。此外，在十大网购热门城市中，25岁-34岁的群体成为网购消费的主力军，占比达到62.49%。\tlabel=科技\n",
      "---------验证集前三条数据----------\n",
      "text=世界首辆飞行汽车成功试飞(附图)　　新快报讯据美国《时代杂志》等媒体19日报道，世界首辆飞行汽车本月初在美国实现了首飞，降落后只需按一个按钮就可将机翼折叠，驶上高速公路。　　据报道，美国特拉弗吉亚公司研发的这辆名为“特拉弗吉亚过渡”的飞行汽车的空中巡航时速可达185公里，它还可以在道路上行驶，可以安全地存放在车库里。公司称，汽车可以用一箱汽油在空中飞行643公里。与此同时，飞行汽车加油时只需驶入最近的加油站，向油箱里加入无铅汽油即可。人们先前也曾验证过其它飞行汽车，但特拉弗吉亚公司研发的飞行汽车是第一辆拥有可折叠机翼的、并能无缝隙地实现从空中降落到公路的汽车。不过，这辆车的门槛还有点高，车的价格达13.9万英镑（约合135万元人民币）。\tlabel=社会\n",
      "---------验证集后三条数据----------\n",
      "text=事业测试：你工作易受他人干扰吗(图)　　独家撰稿：苑椿　心理测试征稿启事 欢迎关注新浪星座微博　　办公室永远是个龙蛇混杂、藏龙卧虎的地方，你永远不知道一张张面具底下会是怎样的脸庞，你是否还傻傻的对别人的话听之任之，完全搞乱了自己工作的步调？还是笃定的坚守阵地，从未被谣言动摇分毫？赶紧来测测看吧！　　(本测试仅供娱乐，非专业心理指导。)\tlabel=星座\n",
      "---------验证集后三条数据----------\n",
      "text=趣味测试：你怎么红红火火过春节(图)　　独家撰稿：岚　心理测试征稿启事 欢迎关注新浪星座微博　　红红火火过大年啦，每年的此时你都会如何度过呢？是跟家人爱人在一起还是跟朋友兄弟外出欢聚呢？亦或背起行囊远离嘈杂，无论如何，总会有一种适合你的方式，赶紧来测测看吧！　　(本测试仅供娱乐，非专业心理指导。)\tlabel=星座\n",
      "---------验证集后三条数据----------\n",
      "text=人际测试：你的人际磁场强大吗(图)　　独家撰稿：大智若笨　心理测试征稿启事　　如何在草木皆兵的office里脱颖而出，最好的办法不是到处抱怨也不是埋头工作，而是要加强自己的磁场，让周围的人都被你所感染，如此有影响力，你难道还怕自己不能夺人眼球吗。　　独家撰稿：大智若笨　心理测试征稿启事　　如何在草木皆兵的office里脱颖而出，最好的办法不是到处抱怨也不是埋头工作，而是要加强自己的磁场，让周围的人都被你所感染，如此有影响力，你难道还怕自己不能夺人眼球吗。\tlabel=星座\n"
     ]
    }
   ],
   "source": [
    "\n",
    "##加载数据集\n",
    "class ThuNews(TextClassificationDataset):\n",
    "    base_path=\"/home/aistudio/data/data80226/thu_news\"\n",
    "    \n",
    "    def __init__(self, tokenizer, mode='train', max_seq_len=128):\n",
    "        if mode == 'train':\n",
    "            data_file = 'train.txt'\n",
    "        elif mode == 'test':\n",
    "            data_file = 'test.txt'\n",
    "        else:\n",
    "            data_file = 'valid.txt'\n",
    "        super(ThuNews, self).__init__(\n",
    "            base_path=self.base_path,\n",
    "            tokenizer=tokenizer,\n",
    "            max_seq_len=max_seq_len,\n",
    "            mode=mode,\n",
    "            data_file=data_file,\n",
    "            is_file_with_header=True,\n",
    "            label_list=['体育', '科技', '社会', '娱乐', '股票', '房产', '教育', '时政', '财经', '星座', '游戏', '家居', '彩票', '时尚'])\n",
    "            \n",
    "            \n",
    "    # 解析文本文件里的样本\n",
    "    def _read_file(self, input_file, is_file_with_header: bool = False):\n",
    "        if not os.path.exists(input_file):\n",
    "            raise RuntimeError(\"The file {} is not found.\".format(input_file))\n",
    "        else:\n",
    "            with io.open(input_file, \"r\", encoding=\"UTF-8\") as f:\n",
    "                reader = csv.reader(f, delimiter=\"\\t\", quotechar=None)\n",
    "                examples = []\n",
    "                seq_id = 0\n",
    "                header = next(reader) if is_file_with_header else None\n",
    "                for line in reader:\n",
    "                    example = InputExample(guid=seq_id, text_a=line[0], label=line[1])\n",
    "                    seq_id += 1\n",
    "                    examples.append(example)\n",
    "                return examples\n",
    "\n",
    "model = hub.Module(name=\"ernie\", task='seq-cls', num_classes=14)\n",
    "#开始训练模型\n",
    "train_dataset = ThuNews(model.get_tokenizer(), mode='train', max_seq_len=128)\n",
    "valid_dataset = ThuNews(model.get_tokenizer(), mode='valid', max_seq_len=128)\n",
    "test_dataset = ThuNews(model.get_tokenizer(), mode='test', max_seq_len=128)\n",
    "\n",
    "\n",
    "#输出验证集前三条、后三条数据（方法2）\n",
    "#前三条\n",
    "for e in valid_dataset.examples[:3]:\n",
    "    print(\"---------验证集前三条数据----------\")\n",
    "    print(e)            \n",
    "#后三条\n",
    "n=len(valid_dataset)\n",
    "for e in valid_dataset.examples[n-3:]:\n",
    "    print(\"---------验证集后三条数据----------\")\n",
    "    print(e)\n",
    "\n"
   ]
  },
  {
   "cell_type": "code",
   "execution_count": 110,
   "metadata": {
    "collapsed": false
   },
   "outputs": [
    {
     "name": "stderr",
     "output_type": "stream",
     "text": [
      "[2021-04-13 17:38:10,816] [ WARNING] - PaddleHub model checkpoint not found, start from scratch...\n",
      "[2021-04-13 17:38:13,042] [   TRAIN] - Epoch=1/3, Step=10/282 loss=2.2089 acc=0.3219 lr=0.000050 step/sec=4.50 | ETA 00:03:08\n",
      "[2021-04-13 17:38:15,194] [   TRAIN] - Epoch=1/3, Step=20/282 loss=1.5204 acc=0.6031 lr=0.000050 step/sec=4.65 | ETA 00:03:05\n",
      "[2021-04-13 17:38:17,344] [   TRAIN] - Epoch=1/3, Step=30/282 loss=1.1498 acc=0.7000 lr=0.000050 step/sec=4.65 | ETA 00:03:03\n",
      "[2021-04-13 17:38:19,503] [   TRAIN] - Epoch=1/3, Step=40/282 loss=0.8613 acc=0.7906 lr=0.000050 step/sec=4.63 | ETA 00:03:03\n",
      "[2021-04-13 17:38:21,655] [   TRAIN] - Epoch=1/3, Step=50/282 loss=0.6544 acc=0.8375 lr=0.000050 step/sec=4.65 | ETA 00:03:03\n",
      "[2021-04-13 17:38:23,810] [   TRAIN] - Epoch=1/3, Step=60/282 loss=0.6264 acc=0.8438 lr=0.000050 step/sec=4.64 | ETA 00:03:03\n",
      "[2021-04-13 17:38:25,969] [   TRAIN] - Epoch=1/3, Step=70/282 loss=0.5065 acc=0.8906 lr=0.000050 step/sec=4.63 | ETA 00:03:03\n",
      "[2021-04-13 17:38:28,133] [   TRAIN] - Epoch=1/3, Step=80/282 loss=0.4653 acc=0.8750 lr=0.000050 step/sec=4.62 | ETA 00:03:03\n",
      "[2021-04-13 17:38:30,289] [   TRAIN] - Epoch=1/3, Step=90/282 loss=0.3301 acc=0.9187 lr=0.000050 step/sec=4.64 | ETA 00:03:03\n",
      "[2021-04-13 17:38:32,446] [   TRAIN] - Epoch=1/3, Step=100/282 loss=0.3325 acc=0.9094 lr=0.000050 step/sec=4.64 | ETA 00:03:02\n",
      "[2021-04-13 17:38:34,610] [   TRAIN] - Epoch=1/3, Step=110/282 loss=0.2903 acc=0.9313 lr=0.000050 step/sec=4.62 | ETA 00:03:02\n",
      "[2021-04-13 17:38:36,751] [   TRAIN] - Epoch=1/3, Step=120/282 loss=0.3335 acc=0.9125 lr=0.000050 step/sec=4.67 | ETA 00:03:02\n",
      "[2021-04-13 17:38:38,896] [   TRAIN] - Epoch=1/3, Step=130/282 loss=0.3061 acc=0.9250 lr=0.000050 step/sec=4.66 | ETA 00:03:02\n",
      "[2021-04-13 17:38:41,037] [   TRAIN] - Epoch=1/3, Step=140/282 loss=0.2052 acc=0.9500 lr=0.000050 step/sec=4.67 | ETA 00:03:02\n",
      "[2021-04-13 17:38:43,186] [   TRAIN] - Epoch=1/3, Step=150/282 loss=0.2785 acc=0.9187 lr=0.000050 step/sec=4.65 | ETA 00:03:02\n",
      "[2021-04-13 17:38:45,339] [   TRAIN] - Epoch=1/3, Step=160/282 loss=0.3437 acc=0.9062 lr=0.000050 step/sec=4.65 | ETA 00:03:02\n",
      "[2021-04-13 17:38:47,503] [   TRAIN] - Epoch=1/3, Step=170/282 loss=0.3862 acc=0.9062 lr=0.000050 step/sec=4.62 | ETA 00:03:02\n",
      "[2021-04-13 17:38:49,665] [   TRAIN] - Epoch=1/3, Step=180/282 loss=0.2462 acc=0.9531 lr=0.000050 step/sec=4.63 | ETA 00:03:02\n",
      "[2021-04-13 17:38:51,824] [   TRAIN] - Epoch=1/3, Step=190/282 loss=0.3791 acc=0.9000 lr=0.000050 step/sec=4.63 | ETA 00:03:02\n",
      "[2021-04-13 17:38:53,991] [   TRAIN] - Epoch=1/3, Step=200/282 loss=0.2435 acc=0.9437 lr=0.000050 step/sec=4.61 | ETA 00:03:02\n",
      "[2021-04-13 17:38:56,144] [   TRAIN] - Epoch=1/3, Step=210/282 loss=0.3307 acc=0.9125 lr=0.000050 step/sec=4.65 | ETA 00:03:02\n",
      "[2021-04-13 17:38:58,305] [   TRAIN] - Epoch=1/3, Step=220/282 loss=0.2947 acc=0.8938 lr=0.000050 step/sec=4.63 | ETA 00:03:02\n",
      "[2021-04-13 17:39:00,465] [   TRAIN] - Epoch=1/3, Step=230/282 loss=0.3095 acc=0.9094 lr=0.000050 step/sec=4.63 | ETA 00:03:02\n",
      "[2021-04-13 17:39:02,627] [   TRAIN] - Epoch=1/3, Step=240/282 loss=0.2629 acc=0.9281 lr=0.000050 step/sec=4.63 | ETA 00:03:02\n",
      "[2021-04-13 17:39:04,789] [   TRAIN] - Epoch=1/3, Step=250/282 loss=0.3247 acc=0.9000 lr=0.000050 step/sec=4.63 | ETA 00:03:02\n",
      "[2021-04-13 17:39:06,954] [   TRAIN] - Epoch=1/3, Step=260/282 loss=0.2317 acc=0.9281 lr=0.000050 step/sec=4.62 | ETA 00:03:02\n",
      "[2021-04-13 17:39:09,119] [   TRAIN] - Epoch=1/3, Step=270/282 loss=0.2521 acc=0.9156 lr=0.000050 step/sec=4.62 | ETA 00:03:02\n",
      "[2021-04-13 17:39:11,286] [   TRAIN] - Epoch=1/3, Step=280/282 loss=0.2704 acc=0.9156 lr=0.000050 step/sec=4.61 | ETA 00:03:02\n",
      "[2021-04-13 17:39:15,071] [    EVAL] - Evaluation on validation dataset: \\ - Evaluation on validation dataset: | - Evaluation on validation dataset: / - Evaluation on validation dataset: - - Evaluation on validation dataset: \\ - Evaluation on validation dataset: | - Evaluation on validation dataset: / - Evaluation on validation dataset: - - Evaluation on validation dataset: \\ - Evaluation on validation dataset: | - Evaluation on validation dataset: / - Evaluation on validation dataset: - - Evaluation on validation dataset: \\ - Evaluation on validation dataset: | - Evaluation on validation dataset: / - Evaluation on validation dataset: - - Evaluation on validation dataset: \\ - Evaluation on validation dataset: | - Evaluation on validation dataset: / - Evaluation on validation dataset: - - Evaluation on validation dataset: \\ - Evaluation on validation dataset: | - Evaluation on validation dataset: / - Evaluation on validation dataset: - - Evaluation on validation dataset: \\ - Evaluation on validation dataset: | - Evaluation on validation dataset: / - Evaluation on validation dataset: - - Evaluation on validation dataset: \\ - Evaluation on validation dataset: | - Evaluation on validation dataset: / - Evaluation on validation dataset: - - Evaluation on validation dataset: \\ - Evaluation on validation dataset: | - [Evaluation result] avg_acc=0.9036\n",
      "[2021-04-13 17:39:27,954] [    EVAL] - Saving best model to ./ckpt/best_model [best acc=0.9036]\n",
      "[2021-04-13 17:39:27,957] [    INFO] - Saving model checkpoint to ./ckpt/epoch_1\n",
      "[2021-04-13 17:39:42,905] [   TRAIN] - Epoch=2/3, Step=10/282 loss=0.1601 acc=0.9594 lr=0.000050 step/sec=0.38 | ETA 00:04:26\n",
      "[2021-04-13 17:39:45,050] [   TRAIN] - Epoch=2/3, Step=20/282 loss=0.1275 acc=0.9781 lr=0.000050 step/sec=4.66 | ETA 00:04:23\n",
      "[2021-04-13 17:39:47,206] [   TRAIN] - Epoch=2/3, Step=30/282 loss=0.1615 acc=0.9563 lr=0.000050 step/sec=4.64 | ETA 00:04:21\n",
      "[2021-04-13 17:39:49,373] [   TRAIN] - Epoch=2/3, Step=40/282 loss=0.1290 acc=0.9719 lr=0.000050 step/sec=4.61 | ETA 00:04:18\n",
      "[2021-04-13 17:39:51,545] [   TRAIN] - Epoch=2/3, Step=50/282 loss=0.1334 acc=0.9688 lr=0.000050 step/sec=4.60 | ETA 00:04:16\n",
      "[2021-04-13 17:39:53,710] [   TRAIN] - Epoch=2/3, Step=60/282 loss=0.1829 acc=0.9500 lr=0.000050 step/sec=4.62 | ETA 00:04:14\n",
      "[2021-04-13 17:39:55,877] [   TRAIN] - Epoch=2/3, Step=70/282 loss=0.1365 acc=0.9750 lr=0.000050 step/sec=4.62 | ETA 00:04:12\n",
      "[2021-04-13 17:39:58,049] [   TRAIN] - Epoch=2/3, Step=80/282 loss=0.1591 acc=0.9500 lr=0.000050 step/sec=4.60 | ETA 00:04:10\n",
      "[2021-04-13 17:40:00,221] [   TRAIN] - Epoch=2/3, Step=90/282 loss=0.1285 acc=0.9688 lr=0.000050 step/sec=4.61 | ETA 00:04:08\n",
      "[2021-04-13 17:40:02,394] [   TRAIN] - Epoch=2/3, Step=100/282 loss=0.1425 acc=0.9437 lr=0.000050 step/sec=4.60 | ETA 00:04:07\n",
      "[2021-04-13 17:40:04,555] [   TRAIN] - Epoch=2/3, Step=110/282 loss=0.1764 acc=0.9406 lr=0.000050 step/sec=4.63 | ETA 00:04:05\n",
      "[2021-04-13 17:40:06,715] [   TRAIN] - Epoch=2/3, Step=120/282 loss=0.1582 acc=0.9719 lr=0.000050 step/sec=4.63 | ETA 00:04:03\n",
      "[2021-04-13 17:40:08,873] [   TRAIN] - Epoch=2/3, Step=130/282 loss=0.1205 acc=0.9656 lr=0.000050 step/sec=4.63 | ETA 00:04:02\n",
      "[2021-04-13 17:40:11,037] [   TRAIN] - Epoch=2/3, Step=140/282 loss=0.1720 acc=0.9531 lr=0.000050 step/sec=4.62 | ETA 00:04:01\n",
      "[2021-04-13 17:40:13,201] [   TRAIN] - Epoch=2/3, Step=150/282 loss=0.1545 acc=0.9625 lr=0.000050 step/sec=4.62 | ETA 00:03:59\n",
      "[2021-04-13 17:40:15,369] [   TRAIN] - Epoch=2/3, Step=160/282 loss=0.1478 acc=0.9563 lr=0.000050 step/sec=4.61 | ETA 00:03:58\n",
      "[2021-04-13 17:40:17,535] [   TRAIN] - Epoch=2/3, Step=170/282 loss=0.1464 acc=0.9531 lr=0.000050 step/sec=4.62 | ETA 00:03:57\n",
      "[2021-04-13 17:40:19,701] [   TRAIN] - Epoch=2/3, Step=180/282 loss=0.1882 acc=0.9563 lr=0.000050 step/sec=4.62 | ETA 00:03:56\n",
      "[2021-04-13 17:40:21,868] [   TRAIN] - Epoch=2/3, Step=190/282 loss=0.1841 acc=0.9500 lr=0.000050 step/sec=4.61 | ETA 00:03:54\n",
      "[2021-04-13 17:40:24,048] [   TRAIN] - Epoch=2/3, Step=200/282 loss=0.1879 acc=0.9531 lr=0.000050 step/sec=4.59 | ETA 00:03:53\n",
      "[2021-04-13 17:40:26,227] [   TRAIN] - Epoch=2/3, Step=210/282 loss=0.1342 acc=0.9656 lr=0.000050 step/sec=4.59 | ETA 00:03:52\n",
      "[2021-04-13 17:40:28,401] [   TRAIN] - Epoch=2/3, Step=220/282 loss=0.1490 acc=0.9563 lr=0.000050 step/sec=4.60 | ETA 00:03:51\n",
      "[2021-04-13 17:40:30,576] [   TRAIN] - Epoch=2/3, Step=230/282 loss=0.1514 acc=0.9563 lr=0.000050 step/sec=4.60 | ETA 00:03:50\n",
      "[2021-04-13 17:40:32,751] [   TRAIN] - Epoch=2/3, Step=240/282 loss=0.1180 acc=0.9688 lr=0.000050 step/sec=4.60 | ETA 00:03:50\n",
      "[2021-04-13 17:40:34,935] [   TRAIN] - Epoch=2/3, Step=250/282 loss=0.1602 acc=0.9688 lr=0.000050 step/sec=4.58 | ETA 00:03:49\n",
      "[2021-04-13 17:40:37,129] [   TRAIN] - Epoch=2/3, Step=260/282 loss=0.1329 acc=0.9563 lr=0.000050 step/sec=4.56 | ETA 00:03:48\n",
      "[2021-04-13 17:40:39,325] [   TRAIN] - Epoch=2/3, Step=270/282 loss=0.1456 acc=0.9531 lr=0.000050 step/sec=4.55 | ETA 00:03:47\n",
      "[2021-04-13 17:40:41,529] [   TRAIN] - Epoch=2/3, Step=280/282 loss=0.1760 acc=0.9531 lr=0.000050 step/sec=4.54 | ETA 00:03:46\n",
      "[2021-04-13 17:40:45,511] [    EVAL] - Evaluation on validation dataset: \\ - Evaluation on validation dataset: | - Evaluation on validation dataset: / - Evaluation on validation dataset: - - Evaluation on validation dataset: \\ - Evaluation on validation dataset: | - Evaluation on validation dataset: / - Evaluation on validation dataset: - - Evaluation on validation dataset: \\ - Evaluation on validation dataset: | - Evaluation on validation dataset: / - Evaluation on validation dataset: - - Evaluation on validation dataset: \\ - Evaluation on validation dataset: | - Evaluation on validation dataset: / - Evaluation on validation dataset: - - Evaluation on validation dataset: \\ - Evaluation on validation dataset: | - Evaluation on validation dataset: / - Evaluation on validation dataset: - - Evaluation on validation dataset: \\ - Evaluation on validation dataset: | - Evaluation on validation dataset: / - Evaluation on validation dataset: - - Evaluation on validation dataset: \\ - Evaluation on validation dataset: | - Evaluation on validation dataset: / - Evaluation on validation dataset: - - Evaluation on validation dataset: \\ - Evaluation on validation dataset: | - Evaluation on validation dataset: / - Evaluation on validation dataset: - - Evaluation on validation dataset: \\ - Evaluation on validation dataset: | - Evaluation on validation dataset: / - [Evaluation result] avg_acc=0.9171\n",
      "[2021-04-13 17:40:59,534] [    EVAL] - Saving best model to ./ckpt/best_model [best acc=0.9171]\n",
      "[2021-04-13 17:40:59,537] [    INFO] - Saving model checkpoint to ./ckpt/epoch_2\n",
      "[2021-04-13 17:41:14,497] [   TRAIN] - Epoch=3/3, Step=10/282 loss=0.1098 acc=0.9688 lr=0.000050 step/sec=0.36 | ETA 00:04:30\n",
      "[2021-04-13 17:41:16,661] [   TRAIN] - Epoch=3/3, Step=20/282 loss=0.0846 acc=0.9844 lr=0.000050 step/sec=4.62 | ETA 00:04:29\n",
      "[2021-04-13 17:41:18,820] [   TRAIN] - Epoch=3/3, Step=30/282 loss=0.0721 acc=0.9812 lr=0.000050 step/sec=4.63 | ETA 00:04:27\n",
      "[2021-04-13 17:41:20,977] [   TRAIN] - Epoch=3/3, Step=40/282 loss=0.0859 acc=0.9844 lr=0.000050 step/sec=4.64 | ETA 00:04:26\n",
      "[2021-04-13 17:41:23,143] [   TRAIN] - Epoch=3/3, Step=50/282 loss=0.1169 acc=0.9625 lr=0.000050 step/sec=4.62 | ETA 00:04:24\n",
      "[2021-04-13 17:41:25,317] [   TRAIN] - Epoch=3/3, Step=60/282 loss=0.0627 acc=0.9812 lr=0.000050 step/sec=4.60 | ETA 00:04:23\n",
      "[2021-04-13 17:41:27,492] [   TRAIN] - Epoch=3/3, Step=70/282 loss=0.0634 acc=0.9844 lr=0.000050 step/sec=4.60 | ETA 00:04:22\n",
      "[2021-04-13 17:41:29,667] [   TRAIN] - Epoch=3/3, Step=80/282 loss=0.0909 acc=0.9719 lr=0.000050 step/sec=4.60 | ETA 00:04:21\n",
      "[2021-04-13 17:41:31,837] [   TRAIN] - Epoch=3/3, Step=90/282 loss=0.1128 acc=0.9625 lr=0.000050 step/sec=4.61 | ETA 00:04:20\n",
      "[2021-04-13 17:41:34,006] [   TRAIN] - Epoch=3/3, Step=100/282 loss=0.0552 acc=0.9875 lr=0.000050 step/sec=4.61 | ETA 00:04:18\n",
      "[2021-04-13 17:41:36,188] [   TRAIN] - Epoch=3/3, Step=110/282 loss=0.1212 acc=0.9719 lr=0.000050 step/sec=4.58 | ETA 00:04:17\n",
      "[2021-04-13 17:41:38,370] [   TRAIN] - Epoch=3/3, Step=120/282 loss=0.0801 acc=0.9812 lr=0.000050 step/sec=4.58 | ETA 00:04:16\n",
      "[2021-04-13 17:41:40,547] [   TRAIN] - Epoch=3/3, Step=130/282 loss=0.1001 acc=0.9688 lr=0.000050 step/sec=4.59 | ETA 00:04:15\n",
      "[2021-04-13 17:41:42,721] [   TRAIN] - Epoch=3/3, Step=140/282 loss=0.0851 acc=0.9812 lr=0.000050 step/sec=4.60 | ETA 00:04:14\n",
      "[2021-04-13 17:41:44,895] [   TRAIN] - Epoch=3/3, Step=150/282 loss=0.0597 acc=0.9844 lr=0.000050 step/sec=4.60 | ETA 00:04:13\n",
      "[2021-04-13 17:41:47,077] [   TRAIN] - Epoch=3/3, Step=160/282 loss=0.0539 acc=0.9844 lr=0.000050 step/sec=4.58 | ETA 00:04:12\n",
      "[2021-04-13 17:41:49,262] [   TRAIN] - Epoch=3/3, Step=170/282 loss=0.0443 acc=0.9812 lr=0.000050 step/sec=4.58 | ETA 00:04:11\n",
      "[2021-04-13 17:41:51,448] [   TRAIN] - Epoch=3/3, Step=180/282 loss=0.1614 acc=0.9563 lr=0.000050 step/sec=4.57 | ETA 00:04:10\n",
      "[2021-04-13 17:41:53,623] [   TRAIN] - Epoch=3/3, Step=190/282 loss=0.0951 acc=0.9750 lr=0.000050 step/sec=4.60 | ETA 00:04:09\n",
      "[2021-04-13 17:41:55,802] [   TRAIN] - Epoch=3/3, Step=200/282 loss=0.0655 acc=0.9812 lr=0.000050 step/sec=4.59 | ETA 00:04:09\n",
      "[2021-04-13 17:41:57,988] [   TRAIN] - Epoch=3/3, Step=210/282 loss=0.0836 acc=0.9781 lr=0.000050 step/sec=4.58 | ETA 00:04:08\n",
      "[2021-04-13 17:42:00,170] [   TRAIN] - Epoch=3/3, Step=220/282 loss=0.0985 acc=0.9719 lr=0.000050 step/sec=4.58 | ETA 00:04:07\n",
      "[2021-04-13 17:42:02,353] [   TRAIN] - Epoch=3/3, Step=230/282 loss=0.0703 acc=0.9781 lr=0.000050 step/sec=4.58 | ETA 00:04:06\n",
      "[2021-04-13 17:42:04,535] [   TRAIN] - Epoch=3/3, Step=240/282 loss=0.0883 acc=0.9781 lr=0.000050 step/sec=4.58 | ETA 00:04:05\n",
      "[2021-04-13 17:42:06,720] [   TRAIN] - Epoch=3/3, Step=250/282 loss=0.0585 acc=0.9875 lr=0.000050 step/sec=4.58 | ETA 00:04:05\n",
      "[2021-04-13 17:42:08,905] [   TRAIN] - Epoch=3/3, Step=260/282 loss=0.0543 acc=0.9844 lr=0.000050 step/sec=4.58 | ETA 00:04:04\n",
      "[2021-04-13 17:42:11,090] [   TRAIN] - Epoch=3/3, Step=270/282 loss=0.0749 acc=0.9719 lr=0.000050 step/sec=4.58 | ETA 00:04:03\n",
      "[2021-04-13 17:42:13,264] [   TRAIN] - Epoch=3/3, Step=280/282 loss=0.1357 acc=0.9656 lr=0.000050 step/sec=4.60 | ETA 00:04:03\n",
      "[2021-04-13 17:42:17,117] [    EVAL] - Evaluation on validation dataset: \\ - Evaluation on validation dataset: | - Evaluation on validation dataset: / - Evaluation on validation dataset: - - Evaluation on validation dataset: \\ - Evaluation on validation dataset: | - Evaluation on validation dataset: / - Evaluation on validation dataset: - - Evaluation on validation dataset: \\ - Evaluation on validation dataset: | - Evaluation on validation dataset: / - Evaluation on validation dataset: - - Evaluation on validation dataset: \\ - Evaluation on validation dataset: | - Evaluation on validation dataset: / - Evaluation on validation dataset: - - Evaluation on validation dataset: \\ - Evaluation on validation dataset: | - Evaluation on validation dataset: / - Evaluation on validation dataset: - - Evaluation on validation dataset: \\ - Evaluation on validation dataset: | - Evaluation on validation dataset: / - Evaluation on validation dataset: - - Evaluation on validation dataset: \\ - Evaluation on validation dataset: | - Evaluation on validation dataset: / - Evaluation on validation dataset: - - Evaluation on validation dataset: \\ - Evaluation on validation dataset: | - Evaluation on validation dataset: / - Evaluation on validation dataset: - - Evaluation on validation dataset: \\ - Evaluation on validation dataset: | - [Evaluation result] avg_acc=0.9107\n",
      "[2021-04-13 17:42:17,122] [    INFO] - Saving model checkpoint to ./ckpt/epoch_3\n"
     ]
    }
   ],
   "source": [
    "\n",
    "optimizer = paddle.optimizer.Adam(learning_rate=5e-5, parameters=model.parameters())\n",
    "trainer = hub.Trainer(model, optimizer, checkpoint_dir='./ckpt', use_gpu=True)\n",
    "trainer.train(train_dataset, epochs=3, batch_size=32, eval_dataset=valid_dataset, save_interval=1)   # 配置训练参数，启动训练，并指定验证集\n",
    "\n"
   ]
  },
  {
   "cell_type": "code",
   "execution_count": 111,
   "metadata": {
    "collapsed": false
   },
   "outputs": [
    {
     "name": "stderr",
     "output_type": "stream",
     "text": [
      "[2021-04-13 17:42:30,632] [    INFO] - Evaluation on validation dataset: \\\n",
      "[2021-04-13 17:42:34,132] [    EVAL] - Evaluation on validation dataset: | - Evaluation on validation dataset: / - Evaluation on validation dataset: - - Evaluation on validation dataset: \\ - Evaluation on validation dataset: | - Evaluation on validation dataset: / - Evaluation on validation dataset: - - Evaluation on validation dataset: \\ - Evaluation on validation dataset: | - Evaluation on validation dataset: / - Evaluation on validation dataset: - - Evaluation on validation dataset: \\ - Evaluation on validation dataset: | - Evaluation on validation dataset: / - Evaluation on validation dataset: - - Evaluation on validation dataset: \\ - Evaluation on validation dataset: | - Evaluation on validation dataset: / - Evaluation on validation dataset: - - Evaluation on validation dataset: \\ - Evaluation on validation dataset: | - Evaluation on validation dataset: / - Evaluation on validation dataset: - - Evaluation on validation dataset: \\ - Evaluation on validation dataset: | - Evaluation on validation dataset: / - Evaluation on validation dataset: - - Evaluation on validation dataset: \\ - Evaluation on validation dataset: | - Evaluation on validation dataset: / - Evaluation on validation dataset: - - Evaluation on validation dataset: \\ - Evaluation on validation dataset: | - [Evaluation result] avg_acc=0.9157\n"
     ]
    }
   ],
   "source": [
    "result = trainer.evaluate(test_dataset, batch_size=32) "
   ]
  },
  {
   "cell_type": "code",
   "execution_count": 112,
   "metadata": {
    "collapsed": false
   },
   "outputs": [
    {
     "name": "stderr",
     "output_type": "stream",
     "text": [
      "[2021-04-13 17:42:34,147] [    INFO] - Already cached /home/aistudio/.paddlenlp/models/ernie-1.0/ernie_v1_chn_base.pdparams\n",
      "[2021-04-13 17:42:39,562] [    INFO] - Loaded parameters from /home/aistudio/data/data80226/ckpt/best_model/model.pdparams\n",
      "[2021-04-13 17:42:39,704] [    INFO] - Found /home/aistudio/.paddlenlp/models/ernie-1.0/vocab.txt\n"
     ]
    },
    {
     "name": "stdout",
     "output_type": "stream",
     "text": [
      "Data: 昌平京基鹭府10月29日推别墅1200万套起享97折　　新浪房产讯(编辑郭彪)京基鹭府(论坛相册户型样板间点评地图搜索)售楼处位于昌平区京承高速北七家出口向西南公里路南。项目预计10月29日开盘，总价1200万元/套起，2012年年底入住。待售户型为联排户型面积为410-522平方米，独栋户型面积为938平方米，双拼户型面积为522平方米。　　京基鹭府项目位于昌平定泗路与东北路交界处。项目周边配套齐全，幼儿园：伊顿双语幼儿园、温莎双语幼儿园；中学：北师大亚太实验学校、潞河中学(北京市重点)；大学：王府语言学校、北京邮电大学、现代音乐学院；医院：王府中西医结合医院(三级甲等)、潞河医院、解放军263医院、安贞医院昌平分院；购物：龙德广场、中联万家商厦、世纪华联超市、瑰宝购物中心、家乐福超市；酒店：拉斐特城堡、鲍鱼岛；休闲娱乐设施：九华山庄、温都温泉度假村、小汤山疗养院、龙脉温泉度假村、小汤山文化广场、皇港高尔夫、高地高尔夫、北鸿高尔夫球场；银行：工商银行、建设银行、中国银行、北京农村商业银行；邮局：中国邮政储蓄；其它：北七家建材城、百安居建材超市、北七家镇武装部、北京宏翔鸿企业孵化基地等，享受便捷生活。 \t Lable: 房产\n",
      "Data: 尽管官方到今天也没有公布《使命召唤：现代战争2》的游戏详情，但《使命召唤：现代战争2》首部包含游戏画面的影片终于现身。虽然影片仅有短短不到20秒，但影片最后承诺大家将于美国时间5月24日NBA职业篮球东区决赛时将会揭露更多的游戏内容。　　这部只有18秒的广告片闪现了9个镜头，能够辨识的场景有直升机飞向海岛军事工事，有飞机场争夺战，有潜艇和水下工兵，有冰上乘具，以及其他的一些镜头。整体来看《现代战争2》很大可能仍旧与俄罗斯有关。　　片尾有一则预告：“May24th，EasternConferenceFinals”，这是什么？这是说当前美国NBA联赛东部总决赛的日期。原来这部视频是NBA季后赛奥兰多魔术对波士顿凯尔特人队时，TNT电视台播放的广告。 \t Lable: 游戏\n",
      "Data: 罗马锋王竟公然挑战两大旗帜拉涅利的球队到底错在哪　　记者张恺报道主场一球小胜副班长巴里无可吹捧，罗马占优也纯属正常，倒是托蒂罚失点球和前两号门将先后受伤(多尼以三号身份出场)更让人揪心。阵容规模扩大，反而表现不如上赛季，缺乏一流强队的色彩，这是所有球迷对罗马的印象。　　拉涅利说：“去年我们带着嫉妒之心看国米，今年我们也有了和国米同等的超级阵容，许多教练都想有罗马的球员。阵容广了，寻找队内平衡就难了，某些时段球员的互相排斥和跟从前相比的落差都正常。有好的一面，也有不好的一面，所幸，我们一直在说一支伟大的罗马，必胜的信念和够级别的阵容，我们有了。”拉涅利的总结由近一阶段困扰罗马的队内摩擦、个别球员闹意见要走人而发，本赛季技术层面强化的罗马一直没有上赛季反扑的面貌，内部变化值得球迷关注。 \t Lable: 体育\n",
      "Data: 新总督致力提高加拿大公立教育质量　　滑铁卢大学校长约翰斯顿先生于10月1日担任加拿大总督职务。约翰斯顿先生还曾任麦吉尔大学长，并曾在多伦多大学、女王大学和西安大略大学担任教学职位。　　约翰斯顿先生在就职演说中表示，要将加拿大建设成为一个“聪明与关爱的国度”。为实现这一目标，他提出三个支柱：支持并关爱家庭、儿童；鼓励学习与创造；提倡慈善和志愿者精神。他尤其强调要关爱并尊重教师，并通过公立教育使每个人的才智得到充分发展。 \t Lable: 教育\n"
     ]
    }
   ],
   "source": [
    "# 开始预测\n",
    "data = [\n",
    "    # 房产\n",
    "    [\"昌平京基鹭府10月29日推别墅1200万套起享97折　　新浪房产讯(编辑郭彪)京基鹭府(论坛相册户型样板间点评地图搜索)售楼处位于昌平区京承高速北七家出口向西南公里路南。项目预计10月29日开盘，总价1200万元/套起，2012年年底入住。待售户型为联排户型面积为410-522平方米，独栋户型面积为938平方米，双拼户型面积为522平方米。　　京基鹭府项目位于昌平定泗路与东北路交界处。项目周边配套齐全，幼儿园：伊顿双语幼儿园、温莎双语幼儿园；中学：北师大亚太实验学校、潞河中学(北京市重点)；大学：王府语言学校、北京邮电大学、现代音乐学院；医院：王府中西医结合医院(三级甲等)、潞河医院、解放军263医院、安贞医院昌平分院；购物：龙德广场、中联万家商厦、世纪华联超市、瑰宝购物中心、家乐福超市；酒店：拉斐特城堡、鲍鱼岛；休闲娱乐设施：九华山庄、温都温泉度假村、小汤山疗养院、龙脉温泉度假村、小汤山文化广场、皇港高尔夫、高地高尔夫、北鸿高尔夫球场；银行：工商银行、建设银行、中国银行、北京农村商业银行；邮局：中国邮政储蓄；其它：北七家建材城、百安居建材超市、北七家镇武装部、北京宏翔鸿企业孵化基地等，享受便捷生活。\"],\n",
    "    # 游戏\n",
    "    [\"尽管官方到今天也没有公布《使命召唤：现代战争2》的游戏详情，但《使命召唤：现代战争2》首部包含游戏画面的影片终于现身。虽然影片仅有短短不到20秒，但影片最后承诺大家将于美国时间5月24日NBA职业篮球东区决赛时将会揭露更多的游戏内容。　　这部只有18秒的广告片闪现了9个镜头，能够辨识的场景有直升机飞向海岛军事工事，有飞机场争夺战，有潜艇和水下工兵，有冰上乘具，以及其他的一些镜头。整体来看《现代战争2》很大可能仍旧与俄罗斯有关。　　片尾有一则预告：“May24th，EasternConferenceFinals”，这是什么？这是说当前美国NBA联赛东部总决赛的日期。原来这部视频是NBA季后赛奥兰多魔术对波士顿凯尔特人队时，TNT电视台播放的广告。\"],\n",
    "    # 体育\n",
    "    [\"罗马锋王竟公然挑战两大旗帜拉涅利的球队到底错在哪　　记者张恺报道主场一球小胜副班长巴里无可吹捧，罗马占优也纯属正常，倒是托蒂罚失点球和前两号门将先后受伤(多尼以三号身份出场)更让人揪心。阵容规模扩大，反而表现不如上赛季，缺乏一流强队的色彩，这是所有球迷对罗马的印象。　　拉涅利说：“去年我们带着嫉妒之心看国米，今年我们也有了和国米同等的超级阵容，许多教练都想有罗马的球员。阵容广了，寻找队内平衡就难了，某些时段球员的互相排斥和跟从前相比的落差都正常。有好的一面，也有不好的一面，所幸，我们一直在说一支伟大的罗马，必胜的信念和够级别的阵容，我们有了。”拉涅利的总结由近一阶段困扰罗马的队内摩擦、个别球员闹意见要走人而发，本赛季技术层面强化的罗马一直没有上赛季反扑的面貌，内部变化值得球迷关注。\"],\n",
    "    # 教育\n",
    "    [\"新总督致力提高加拿大公立教育质量　　滑铁卢大学校长约翰斯顿先生于10月1日担任加拿大总督职务。约翰斯顿先生还曾任麦吉尔大学长，并曾在多伦多大学、女王大学和西安大略大学担任教学职位。　　约翰斯顿先生在就职演说中表示，要将加拿大建设成为一个“聪明与关爱的国度”。为实现这一目标，他提出三个支柱：支持并关爱家庭、儿童；鼓励学习与创造；提倡慈善和志愿者精神。他尤其强调要关爱并尊重教师，并通过公立教育使每个人的才智得到充分发展。\"]\n",
    "]\n",
    "\n",
    "label_list=['体育', '科技', '社会', '娱乐', '股票', '房产', '教育', '时政', '财经', '星座', '游戏', '家居', '彩票', '时尚']\n",
    "label_map = { \n",
    "    idx: label_text for idx, label_text in enumerate(label_list)\n",
    "}\n",
    "\n",
    "model = hub.Module(\n",
    "    name='ernie',\n",
    "    task='seq-cls',\n",
    "    load_checkpoint='./ckpt/best_model/model.pdparams',\n",
    "    label_map=label_map)\n",
    "results = model.predict(data, max_seq_len=128, batch_size=1, use_gpu=True)\n",
    "for idx, text in enumerate(data):\n",
    "    print('Data: {} \\t Lable: {}'.format(text[0], results[idx]))"
   ]
  }
 ],
 "metadata": {
  "kernelspec": {
   "display_name": "PaddlePaddle 2.0.0b0 (Python 3.5)",
   "language": "python",
   "name": "py35-paddle1.2.0"
  },
  "language_info": {
   "codemirror_mode": {
    "name": "ipython",
    "version": 3
   },
   "file_extension": ".py",
   "mimetype": "text/x-python",
   "name": "python",
   "nbconvert_exporter": "python",
   "pygments_lexer": "ipython3",
   "version": "3.7.4"
  }
 },
 "nbformat": 4,
 "nbformat_minor": 1
}
